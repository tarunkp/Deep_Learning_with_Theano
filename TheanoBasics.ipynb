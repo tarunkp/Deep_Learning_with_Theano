{
 "cells": [
  {
   "cell_type": "markdown",
   "metadata": {},
   "source": [
    "# Theano Basics\n"
   ]
  },
  {
   "cell_type": "code",
   "execution_count": 35,
   "metadata": {},
   "outputs": [],
   "source": [
    "from __future__ import print_function, division\n",
    "from builtins import range\n",
    "import numpy as np\n",
    "import matplotlib.pyplot as plt\n"
   ]
  },
  {
   "cell_type": "markdown",
   "metadata": {},
   "source": [
    "### Basic Theano data types and matrix multiplication example"
   ]
  },
  {
   "cell_type": "code",
   "execution_count": 60,
   "metadata": {},
   "outputs": [],
   "source": [
    "import theano.tensor as T\n",
    "import theano\n",
    "\n",
    "#  Different types of variables\n",
    "s = T.scalar('c')\n",
    "v = T.vector('v')\n",
    "A = T.matrix('A')\n",
    "# 3 and 4 dimentional tensors\n",
    "T3 = T.tensor3('T3')\n",
    "T3 = T.tensor4('T4')\n"
   ]
  },
  {
   "cell_type": "markdown",
   "metadata": {},
   "source": [
    "### Addition of two matrix in Theano"
   ]
  },
  {
   "cell_type": "code",
   "execution_count": 61,
   "metadata": {},
   "outputs": [
    {
     "name": "stdout",
     "output_type": "stream",
     "text": [
      "\t [[1, 2, 3, 4]] \n",
      "+\t [[5, 6, 7, 8]]\n",
      "= [array([[ 6.,  8., 10., 12.]])]\n"
     ]
    }
   ],
   "source": [
    "a = T.matrix('a')\n",
    "b = T.matrix('b')\n",
    "# Equation to compute sum\n",
    "c = a + b\n",
    "# Define the function which will compute the equation and assign outputs\n",
    "add_fn = theano.function(inputs = [a, b], outputs = [c])\n",
    "# Execute the equation. You need to pass actual values of a and b to subtitute in the equation.\n",
    "output = add_fn([[1, 2, 3, 4]], [[5, 6, 7, 8]])\n",
    "\n",
    "print(\"\\t\", [[1, 2, 3, 4]], \"\\n+\\t\",[[5, 6, 7, 8]])\n",
    "print(\"=\", output)\n"
   ]
  },
  {
   "cell_type": "markdown",
   "metadata": {},
   "source": [
    "### Increment each element of a matrix"
   ]
  },
  {
   "cell_type": "code",
   "execution_count": 62,
   "metadata": {},
   "outputs": [
    {
     "name": "stdout",
     "output_type": "stream",
     "text": [
      "[array([[2., 3., 4., 5.]])]\n",
      "[array([[6., 6., 6., 6.]])]\n"
     ]
    }
   ],
   "source": [
    "a = T.matrix('a')\n",
    "# Create shared variable, the first argument is it's initial value, the second is name\n",
    "one = theano.shared( np.array([[1, 1, 1, 1]]), \"one\")\n",
    "incr = a + one\n",
    "# Here we do not need to pass 'one' to function as it is shared variable.\n",
    "fncr_fn = theano.function(inputs = [a], outputs = [incr])\n",
    "\n",
    "output = fncr_fn([[1, 2, 3, 4]])\n",
    "print(output)\n",
    "\n",
    "output = fncr_fn([[5, 5, 5, 5]])\n",
    "print(output)"
   ]
  },
  {
   "cell_type": "markdown",
   "metadata": {},
   "source": [
    "### Matrix multiplication"
   ]
  },
  {
   "cell_type": "code",
   "execution_count": 63,
   "metadata": {},
   "outputs": [
    {
     "name": "stdout",
     "output_type": "stream",
     "text": [
      "A=\n",
      " [[1 2]\n",
      " [3 4]]\n",
      "v=\n",
      " [5 6]\n",
      "A . v = [17. 39.]\n"
     ]
    }
   ],
   "source": [
    "# we can define a matrix multiplication\n",
    "w = A.dot(v)\n",
    "\n",
    "# how do these variables actually take on values?\n",
    "\n",
    "matrix_times_vector = theano.function(inputs=[A, v], outputs=w)\n",
    "\n",
    "# let's import numpy so we can create real arrays\n",
    "A_val = np.array([[1,2], [3,4]])\n",
    "v_val = np.array([5,6])\n",
    "\n",
    "w_val = matrix_times_vector(A_val, v_val)\n",
    "\n",
    "print(\"A=\\n\", A_val)\n",
    "print(\"v=\\n\", v_val)\n",
    "print(\"A . v =\", w_val)\n"
   ]
  },
  {
   "cell_type": "markdown",
   "metadata": {},
   "source": [
    "### Accumulation"
   ]
  },
  {
   "cell_type": "code",
   "execution_count": 65,
   "metadata": {},
   "outputs": [
    {
     "name": "stdout",
     "output_type": "stream",
     "text": [
      "[array([[ 3.,  6.,  9., 12.]])]\n"
     ]
    }
   ],
   "source": [
    "a = T.matrix('a')\n",
    "# Create shared variable, initialize with zeros, the name is 'accum'\n",
    "acc = theano.shared( np.array([[0., 0., 0., 0.]]), \"accum\")\n",
    "# Define accumulation- add together and update acc with add in theano function. \n",
    "add = acc + a\n",
    "\n",
    "# Here we do not need to pass 'acc' to function as it is shared variable.\n",
    "acc_fn = theano.function(inputs = [a], outputs = [add], updates=[(acc, add)])\n",
    "output = acc_fn([[1, 2, 3, 4]])\n",
    "output = acc_fn([[1, 2, 3, 4]])\n",
    "output = acc_fn([[1, 2, 3, 4]])\n",
    "\n",
    "print(output)"
   ]
  },
  {
   "cell_type": "markdown",
   "metadata": {},
   "source": [
    "### Implementing gradient descent with Theano"
   ]
  },
  {
   "cell_type": "code",
   "execution_count": 66,
   "metadata": {},
   "outputs": [
    {
     "data": {
      "image/png": "[encoded data removed]",
      "text/plain": [
       "<Figure size 432x288 with 1 Axes>"
      ]
     },
     "metadata": {
      "needs_background": "light"
     },
     "output_type": "display_data"
    },
    {
     "name": "stdout",
     "output_type": "stream",
     "text": [
      "Iteration 0 \tcost = 91.0\n",
      "Iteration 1 \tcost = 15.189999999999998\n",
      "Iteration 2 \tcost = 3.0604\n",
      "Iteration 3 \tcost = 1.1196640000000002\n",
      "Iteration 4 \tcost = 0.80914624\n",
      "Iteration 5 \tcost = 0.7594633983999999\n",
      "Iteration 6 \tcost = 0.751514143744\n",
      "Iteration 7 \tcost = 0.7502422629990401\n",
      "Iteration 8 \tcost = 0.7500387620798464\n",
      "Iteration 9 \tcost = 0.7500062019327755\n",
      "Iteration 10 \tcost = 0.7500009923092441\n",
      "Iteration 11 \tcost = 0.750000158769479\n",
      "Iteration 12 \tcost = 0.7500000254031167\n",
      "Iteration 13 \tcost = 0.7500000040644986\n",
      "Iteration 14 \tcost = 0.7500000006503199\n",
      "Iteration 15 \tcost = 0.7500000001040511\n",
      "Iteration 16 \tcost = 0.7500000000166482\n",
      "Iteration 17 \tcost = 0.7500000000026636\n",
      "Iteration 18 \tcost = 0.7500000000004261\n",
      "Iteration 19 \tcost = 0.7500000000000682\n",
      "\n",
      "Value of x to minimize the cost function = 0.5000001044536047\n"
     ]
    }
   ],
   "source": [
    "# Let's create a shared variable so we can do gradient descent\n",
    "# This adds another layer of complexity to the theano function\n",
    "# Here, the first argument is shared variable's initial value, the second is it's name\n",
    "x = theano.shared(10.0, 'x')\n",
    "\n",
    "# A cost function that has a minimum value\n",
    "cost = x*x - x + 1\n",
    "# Plot the cost function\n",
    "xvals = np.arange(-5, 10, 0.05) # Grid of 0.05 spacing from -5 to 10\n",
    "yvals = xvals*xvals - xvals + 1 # Evaluate function on xvals\n",
    "plt.plot(xvals, yvals) # Create line plot with yvals against xvals\n",
    "plt.xlabel(\"x\")\n",
    "plt.ylabel(\"Cost\")\n",
    "plt.show() # Show the figure\n",
    "\n",
    "# In theano, you don't have to compute gradients yourself, theano does it for you.\n",
    "x_update = x - 0.3*T.grad(cost, x)\n",
    "\n",
    "# x is not an \"input\", it's a thing you update\n",
    "# in later examples, data and labels would go into the inputs\n",
    "# and model params would go in the updates\n",
    "# updates takes in a list of tuples, each tuple has 2 things in it:\n",
    "# 1) the shared variable to update, 2) the update expression\n",
    "train = theano.function(inputs=[], outputs=cost, updates=[(x, x_update)])\n",
    "\n",
    "# Write your own loop to call the training function.\n",
    "# It has no arguments!\n",
    "for i in range(20):\n",
    "    cost_val = train()\n",
    "    print(\"Iteration\", i, \"\\tcost =\", cost_val)\n",
    "\n",
    "# Print the optimal value of x\n",
    "print(\"\\nValue of x to minimize the cost function =\", x.get_value())\n"
   ]
  },
  {
   "cell_type": "code",
   "execution_count": null,
   "metadata": {},
   "outputs": [],
   "source": []
  }
 ],
 "metadata": {
  "kernelspec": {
   "display_name": "Python 3",
   "language": "python",
   "name": "python3"
  },
  "language_info": {
   "codemirror_mode": {
    "name": "ipython",
    "version": 3
   },
   "file_extension": ".py",
   "mimetype": "text/x-python",
   "name": "python",
   "nbconvert_exporter": "python",
   "pygments_lexer": "ipython3",
   "version": "3.6.6"
  }
 },
 "nbformat": 4,
 "nbformat_minor": 2
}
